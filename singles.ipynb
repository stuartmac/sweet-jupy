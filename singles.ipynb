{
 "cells": [
  {
   "cell_type": "code",
   "execution_count": 1,
   "metadata": {},
   "outputs": [],
   "source": [
    "%matplotlib inline"
   ]
  },
  {
   "cell_type": "code",
   "execution_count": 2,
   "metadata": {},
   "outputs": [],
   "source": [
    "import numpy as np\n",
    "import pandas as pd"
   ]
  },
  {
   "cell_type": "markdown",
   "metadata": {},
   "source": [
    "# Jupyter Notebooks for Research\n",
    "\n",
    "## 1. Single Notebooks\n",
    "\n",
    "This will usually be your starting point when you start a notebook for a research\n",
    "project: you create a new notebook and start working.\n",
    "\n",
    "### The first few cells\n",
    "\n",
    "You'll notice that the first cell in here (above) is an import. I knew that I would use numpy\n",
    "and pandas in this so that was the very first thing I did. I think having the dependencies\n",
    "at the top is really useful as it makes it clear what you need available to run the notebook.\n",
    "You might call that cell a *setup cell*.\n",
    "\n",
    "The next thing I find myself doing is loading data. That data will be recalled throughout\n",
    "so I would consider this a setup cell too."
   ]
  },
  {
   "cell_type": "code",
   "execution_count": 3,
   "metadata": {},
   "outputs": [
    {
     "data": {
      "text/html": [
       "<div>\n",
       "<style scoped>\n",
       "    .dataframe tbody tr th:only-of-type {\n",
       "        vertical-align: middle;\n",
       "    }\n",
       "\n",
       "    .dataframe tbody tr th {\n",
       "        vertical-align: top;\n",
       "    }\n",
       "\n",
       "    .dataframe thead th {\n",
       "        text-align: right;\n",
       "    }\n",
       "</style>\n",
       "<table border=\"1\" class=\"dataframe\">\n",
       "  <thead>\n",
       "    <tr style=\"text-align: right;\">\n",
       "      <th></th>\n",
       "      <th>A</th>\n",
       "      <th>B</th>\n",
       "      <th>C</th>\n",
       "      <th>D</th>\n",
       "    </tr>\n",
       "  </thead>\n",
       "  <tbody>\n",
       "    <tr>\n",
       "      <th>0</th>\n",
       "      <td>0.357440</td>\n",
       "      <td>0.377538</td>\n",
       "      <td>1.382338</td>\n",
       "      <td>1.175549</td>\n",
       "    </tr>\n",
       "    <tr>\n",
       "      <th>1</th>\n",
       "      <td>-0.939276</td>\n",
       "      <td>-1.143150</td>\n",
       "      <td>-0.542440</td>\n",
       "      <td>-0.548708</td>\n",
       "    </tr>\n",
       "    <tr>\n",
       "      <th>2</th>\n",
       "      <td>0.208520</td>\n",
       "      <td>0.212690</td>\n",
       "      <td>1.268021</td>\n",
       "      <td>-0.807303</td>\n",
       "    </tr>\n",
       "    <tr>\n",
       "      <th>3</th>\n",
       "      <td>-3.303072</td>\n",
       "      <td>-0.806650</td>\n",
       "      <td>-0.360329</td>\n",
       "      <td>-0.880396</td>\n",
       "    </tr>\n",
       "    <tr>\n",
       "      <th>4</th>\n",
       "      <td>0.152631</td>\n",
       "      <td>0.250250</td>\n",
       "      <td>0.078508</td>\n",
       "      <td>-0.903904</td>\n",
       "    </tr>\n",
       "  </tbody>\n",
       "</table>\n",
       "</div>"
      ],
      "text/plain": [
       "          A         B         C         D\n",
       "0  0.357440  0.377538  1.382338  1.175549\n",
       "1 -0.939276 -1.143150 -0.542440 -0.548708\n",
       "2  0.208520  0.212690  1.268021 -0.807303\n",
       "3 -3.303072 -0.806650 -0.360329 -0.880396\n",
       "4  0.152631  0.250250  0.078508 -0.903904"
      ]
     },
     "execution_count": 3,
     "metadata": {},
     "output_type": "execute_result"
    }
   ],
   "source": [
    "# some awesome data\n",
    "np.random.seed(seed=444)  # vcs would be a pain without this\n",
    "df = pd.DataFrame(np.random.randn(100, 4), columns=list('ABCD'))\n",
    "df.head()"
   ]
  },
  {
   "cell_type": "markdown",
   "metadata": {},
   "source": [
    "Now we have a DataFrame called `df` in memory. This is available globally:"
   ]
  },
  {
   "cell_type": "code",
   "execution_count": 4,
   "metadata": {},
   "outputs": [
    {
     "data": {
      "text/html": [
       "<div>\n",
       "<style scoped>\n",
       "    .dataframe tbody tr th:only-of-type {\n",
       "        vertical-align: middle;\n",
       "    }\n",
       "\n",
       "    .dataframe tbody tr th {\n",
       "        vertical-align: top;\n",
       "    }\n",
       "\n",
       "    .dataframe thead th {\n",
       "        text-align: right;\n",
       "    }\n",
       "</style>\n",
       "<table border=\"1\" class=\"dataframe\">\n",
       "  <thead>\n",
       "    <tr style=\"text-align: right;\">\n",
       "      <th></th>\n",
       "      <th>A</th>\n",
       "      <th>B</th>\n",
       "      <th>C</th>\n",
       "      <th>D</th>\n",
       "    </tr>\n",
       "  </thead>\n",
       "  <tbody>\n",
       "    <tr>\n",
       "      <th>86</th>\n",
       "      <td>0.290166</td>\n",
       "      <td>-0.231428</td>\n",
       "      <td>-0.712496</td>\n",
       "      <td>-0.755546</td>\n",
       "    </tr>\n",
       "    <tr>\n",
       "      <th>20</th>\n",
       "      <td>-1.621449</td>\n",
       "      <td>-1.223276</td>\n",
       "      <td>0.258372</td>\n",
       "      <td>0.540705</td>\n",
       "    </tr>\n",
       "    <tr>\n",
       "      <th>59</th>\n",
       "      <td>2.238800</td>\n",
       "      <td>-0.271408</td>\n",
       "      <td>0.206005</td>\n",
       "      <td>2.870687</td>\n",
       "    </tr>\n",
       "  </tbody>\n",
       "</table>\n",
       "</div>"
      ],
      "text/plain": [
       "           A         B         C         D\n",
       "86  0.290166 -0.231428 -0.712496 -0.755546\n",
       "20 -1.621449 -1.223276  0.258372  0.540705\n",
       "59  2.238800 -0.271408  0.206005  2.870687"
      ]
     },
     "execution_count": 4,
     "metadata": {},
     "output_type": "execute_result"
    }
   ],
   "source": [
    "# here's `df` again in a different cell\n",
    "df.sample(3)"
   ]
  },
  {
   "cell_type": "markdown",
   "metadata": {},
   "source": [
    "### Keep up the narrative\n",
    "\n",
    "A little bit of exploratory analysis is in order. I suppose first we might look at the univariate\n",
    "distributions."
   ]
  },
  {
   "cell_type": "code",
   "execution_count": 5,
   "metadata": {},
   "outputs": [
    {
     "data": {
      "image/png": "[encoded data removed]",
      "text/plain": [
       "<Figure size 432x288 with 4 Axes>"
      ]
     },
     "metadata": {
      "needs_background": "light"
     },
     "output_type": "display_data"
    }
   ],
   "source": [
    "ax = df.plot.hist(subplots=True)"
   ]
  },
  {
   "cell_type": "markdown",
   "metadata": {},
   "source": [
    "These data seem to be as expected given how they were generated. Let's see if A and B are\n",
    "related somehow."
   ]
  },
  {
   "cell_type": "code",
   "execution_count": 6,
   "metadata": {},
   "outputs": [
    {
     "data": {
      "image/png": "[encoded data removed]",
      "text/plain": [
       "<Figure size 432x288 with 1 Axes>"
      ]
     },
     "metadata": {
      "needs_background": "light"
     },
     "output_type": "display_data"
    }
   ],
   "source": [
    "ax = df.plot.scatter(x='A', y='B')"
   ]
  },
  {
   "cell_type": "markdown",
   "metadata": {},
   "source": [
    "Hmmm... no correlation to see here.\n",
    "\n",
    "So far I think this notebook is pretty clear. Aren't notebooks awesome? Obviously.\n",
    "\n",
    "## Time for some transformations\n",
    "\n",
    "At somepoint you might want to transform your data. For whatever reason, you might\n",
    "find it convenient or even logical to modify you existing data object instead of\n",
    "creating a new one. In this example, we'll add a column to `df`.\n",
    "\n",
    "**If you're totally new to notebooks, before moving on, try restarting the kernel and\n",
    "running the next cell.*"
   ]
  },
  {
   "cell_type": "code",
   "execution_count": 7,
   "metadata": {},
   "outputs": [
    {
     "data": {
      "text/html": [
       "<div>\n",
       "<style scoped>\n",
       "    .dataframe tbody tr th:only-of-type {\n",
       "        vertical-align: middle;\n",
       "    }\n",
       "\n",
       "    .dataframe tbody tr th {\n",
       "        vertical-align: top;\n",
       "    }\n",
       "\n",
       "    .dataframe thead th {\n",
       "        text-align: right;\n",
       "    }\n",
       "</style>\n",
       "<table border=\"1\" class=\"dataframe\">\n",
       "  <thead>\n",
       "    <tr style=\"text-align: right;\">\n",
       "      <th></th>\n",
       "      <th>A</th>\n",
       "      <th>B</th>\n",
       "      <th>C</th>\n",
       "      <th>D</th>\n",
       "      <th>A2</th>\n",
       "    </tr>\n",
       "  </thead>\n",
       "  <tbody>\n",
       "    <tr>\n",
       "      <th>0</th>\n",
       "      <td>0.357440</td>\n",
       "      <td>0.377538</td>\n",
       "      <td>1.382338</td>\n",
       "      <td>1.175549</td>\n",
       "      <td>1.092418</td>\n",
       "    </tr>\n",
       "    <tr>\n",
       "      <th>1</th>\n",
       "      <td>-0.939276</td>\n",
       "      <td>-1.143150</td>\n",
       "      <td>-0.542440</td>\n",
       "      <td>-0.548708</td>\n",
       "      <td>-3.021702</td>\n",
       "    </tr>\n",
       "    <tr>\n",
       "      <th>2</th>\n",
       "      <td>0.208520</td>\n",
       "      <td>0.212690</td>\n",
       "      <td>1.268021</td>\n",
       "      <td>-0.807303</td>\n",
       "      <td>0.629729</td>\n",
       "    </tr>\n",
       "    <tr>\n",
       "      <th>3</th>\n",
       "      <td>-3.303072</td>\n",
       "      <td>-0.806650</td>\n",
       "      <td>-0.360329</td>\n",
       "      <td>-0.880396</td>\n",
       "      <td>-7.412793</td>\n",
       "    </tr>\n",
       "    <tr>\n",
       "      <th>4</th>\n",
       "      <td>0.152631</td>\n",
       "      <td>0.250250</td>\n",
       "      <td>0.078508</td>\n",
       "      <td>-0.903904</td>\n",
       "      <td>0.555513</td>\n",
       "    </tr>\n",
       "  </tbody>\n",
       "</table>\n",
       "</div>"
      ],
      "text/plain": [
       "          A         B         C         D        A2\n",
       "0  0.357440  0.377538  1.382338  1.175549  1.092418\n",
       "1 -0.939276 -1.143150 -0.542440 -0.548708 -3.021702\n",
       "2  0.208520  0.212690  1.268021 -0.807303  0.629729\n",
       "3 -3.303072 -0.806650 -0.360329 -0.880396 -7.412793\n",
       "4  0.152631  0.250250  0.078508 -0.903904  0.555513"
      ]
     },
     "execution_count": 7,
     "metadata": {},
     "output_type": "execute_result"
    }
   ],
   "source": [
    "df = df.assign(A2=2*df.A + df.B)\n",
    "df.head()"
   ]
  },
  {
   "cell_type": "markdown",
   "metadata": {},
   "source": [
    "Now we have a new column we can play with. Maybe we'll plot it:"
   ]
  },
  {
   "cell_type": "code",
   "execution_count": 8,
   "metadata": {},
   "outputs": [
    {
     "data": {
      "image/png": "[encoded data removed]",
      "text/plain": [
       "<Figure size 432x288 with 1 Axes>"
      ]
     },
     "metadata": {
      "needs_background": "light"
     },
     "output_type": "display_data"
    }
   ],
   "source": [
    "ax = df.plot.scatter(x='A', y='A2')"
   ]
  },
  {
   "cell_type": "markdown",
   "metadata": {},
   "source": [
    "No surprises there. Now go back and run the 5th code cell, the one with the histograms. This is what you'll see:"
   ]
  },
  {
   "cell_type": "code",
   "execution_count": 9,
   "metadata": {},
   "outputs": [
    {
     "data": {
      "image/png": "[encoded data removed]",
      "text/plain": [
       "<Figure size 432x288 with 5 Axes>"
      ]
     },
     "metadata": {
      "needs_background": "light"
     },
     "output_type": "display_data"
    }
   ],
   "source": [
    "ax = df.plot.hist(subplots=True)"
   ]
  },
  {
   "cell_type": "markdown",
   "metadata": {},
   "source": [
    "There are other modifications we could make. For instance, let's drop a\n",
    "column."
   ]
  },
  {
   "cell_type": "code",
   "execution_count": 10,
   "metadata": {},
   "outputs": [
    {
     "data": {
      "text/html": [
       "<div>\n",
       "<style scoped>\n",
       "    .dataframe tbody tr th:only-of-type {\n",
       "        vertical-align: middle;\n",
       "    }\n",
       "\n",
       "    .dataframe tbody tr th {\n",
       "        vertical-align: top;\n",
       "    }\n",
       "\n",
       "    .dataframe thead th {\n",
       "        text-align: right;\n",
       "    }\n",
       "</style>\n",
       "<table border=\"1\" class=\"dataframe\">\n",
       "  <thead>\n",
       "    <tr style=\"text-align: right;\">\n",
       "      <th></th>\n",
       "      <th>A</th>\n",
       "      <th>C</th>\n",
       "      <th>D</th>\n",
       "      <th>A2</th>\n",
       "    </tr>\n",
       "  </thead>\n",
       "  <tbody>\n",
       "    <tr>\n",
       "      <th>0</th>\n",
       "      <td>0.357440</td>\n",
       "      <td>1.382338</td>\n",
       "      <td>1.175549</td>\n",
       "      <td>1.092418</td>\n",
       "    </tr>\n",
       "    <tr>\n",
       "      <th>1</th>\n",
       "      <td>-0.939276</td>\n",
       "      <td>-0.542440</td>\n",
       "      <td>-0.548708</td>\n",
       "      <td>-3.021702</td>\n",
       "    </tr>\n",
       "    <tr>\n",
       "      <th>2</th>\n",
       "      <td>0.208520</td>\n",
       "      <td>1.268021</td>\n",
       "      <td>-0.807303</td>\n",
       "      <td>0.629729</td>\n",
       "    </tr>\n",
       "    <tr>\n",
       "      <th>3</th>\n",
       "      <td>-3.303072</td>\n",
       "      <td>-0.360329</td>\n",
       "      <td>-0.880396</td>\n",
       "      <td>-7.412793</td>\n",
       "    </tr>\n",
       "    <tr>\n",
       "      <th>4</th>\n",
       "      <td>0.152631</td>\n",
       "      <td>0.078508</td>\n",
       "      <td>-0.903904</td>\n",
       "      <td>0.555513</td>\n",
       "    </tr>\n",
       "  </tbody>\n",
       "</table>\n",
       "</div>"
      ],
      "text/plain": [
       "          A         C         D        A2\n",
       "0  0.357440  1.382338  1.175549  1.092418\n",
       "1 -0.939276 -0.542440 -0.548708 -3.021702\n",
       "2  0.208520  1.268021 -0.807303  0.629729\n",
       "3 -3.303072 -0.360329 -0.880396 -7.412793\n",
       "4  0.152631  0.078508 -0.903904  0.555513"
      ]
     },
     "execution_count": 10,
     "metadata": {},
     "output_type": "execute_result"
    }
   ],
   "source": [
    "df = df.drop('B', axis=1)\n",
    "df.head()"
   ]
  },
  {
   "cell_type": "markdown",
   "metadata": {},
   "source": [
    "Easy. Now rerun that cell.\n",
    "\n",
    "Yuuk, we don't want that in our notebook. In this case, I'd suggest you just rerun\n",
    "the whole notebook, but what if your notebook takes more than a few minutes to run\n",
    "and you've just had a tea? I guess you could just clear the exception, or comment\n",
    "out df.drop, or just meticulously rerun the dependencies of your current cell..."
   ]
  },
  {
   "cell_type": "code",
   "execution_count": null,
   "metadata": {},
   "outputs": [],
   "source": []
  }
 ],
 "metadata": {
  "kernelspec": {
   "display_name": "Python [conda env:sweet-jupy] *",
   "language": "python",
   "name": "conda-env-sweet-jupy-py"
  },
  "language_info": {
   "codemirror_mode": {
    "name": "ipython",
    "version": 3
   },
   "file_extension": ".py",
   "mimetype": "text/x-python",
   "name": "python",
   "nbconvert_exporter": "python",
   "pygments_lexer": "ipython3",
   "version": "3.7.3"
  }
 },
 "nbformat": 4,
 "nbformat_minor": 2
}
