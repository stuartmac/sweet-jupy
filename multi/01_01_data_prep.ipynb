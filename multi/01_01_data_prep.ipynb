{
 "cells": [
  {
   "cell_type": "code",
   "execution_count": 1,
   "metadata": {},
   "outputs": [],
   "source": [
    "import time\n",
    "\n",
    "import numpy as np\n",
    "import pandas as pd"
   ]
  },
  {
   "cell_type": "markdown",
   "metadata": {},
   "source": [
    "# Jupyter Notebooks for Research\n",
    "\n",
    "## 2. Multi Notebook Projects\n",
    "\n",
    "I find that some of my notebooks get out of hand. Weeks of work leads to 100+ cells.\n",
    "The notebook feels encumbered (browser, kernel or server load?). A kernel restart\n",
    "means 10+ mins to get back to where I was. Its unpleasant.\n",
    "\n",
    "There is probably sub-optimal code in there but the real issue is that I've abused a\n",
    "the single notebook model and its time to do better.\n",
    "\n",
    "### Splitting your notebook into multiple notebooks\n",
    "\n",
    "Maybe you could think of this as the chapters of the analysis. Technically, I suppose\n",
    "\"books\" might seem more natural but with a substantial dataset and/ or compute intensive\n",
    "analyses I reckon you'll be best splitting on what you'd consider chapters. Here's an\n",
    "example project layout:\n",
    "\n",
    "1. Data preparation\n",
    "2. Exploratory analysis\n",
    "  1. Facet 1\n",
    "  2. Facet 2\n",
    "3. Model fitting\n",
    "\n",
    "The main technical aspect you need to consider is **exchanging data between the notebooks**.\n",
    "In this example you might have something like the following dependency tree:\n",
    "\n",
    "```\n",
    "01_01_data_prep.ipynb\n",
    "│\n",
    "└───\n",
    "│   │   02_01_facet_1.ipynb\n",
    "│   │   02_02_facet_2.ipynb\n",
    "│   └───\n",
    "└───────│   03_01_model.ipynb\n",
    "```\n",
    "\n",
    "There are a variety of ways you can acheive this and its going to be pretty straightforward.\n",
    "I would advise some form of checksumming though.\n",
    "\n",
    "### Generate data\n",
    "\n",
    "First we generate our raw dataset."
   ]
  },
  {
   "cell_type": "code",
   "execution_count": 2,
   "metadata": {},
   "outputs": [
    {
     "data": {
      "text/html": [
       "<div>\n",
       "<style scoped>\n",
       "    .dataframe tbody tr th:only-of-type {\n",
       "        vertical-align: middle;\n",
       "    }\n",
       "\n",
       "    .dataframe tbody tr th {\n",
       "        vertical-align: top;\n",
       "    }\n",
       "\n",
       "    .dataframe thead th {\n",
       "        text-align: right;\n",
       "    }\n",
       "</style>\n",
       "<table border=\"1\" class=\"dataframe\">\n",
       "  <thead>\n",
       "    <tr style=\"text-align: right;\">\n",
       "      <th></th>\n",
       "      <th>A</th>\n",
       "      <th>B</th>\n",
       "      <th>C</th>\n",
       "      <th>D</th>\n",
       "    </tr>\n",
       "  </thead>\n",
       "  <tbody>\n",
       "    <tr>\n",
       "      <th>0</th>\n",
       "      <td>0.357440</td>\n",
       "      <td>0.377538</td>\n",
       "      <td>1.382338</td>\n",
       "      <td>1.175549</td>\n",
       "    </tr>\n",
       "    <tr>\n",
       "      <th>1</th>\n",
       "      <td>-0.939276</td>\n",
       "      <td>-1.143150</td>\n",
       "      <td>-0.542440</td>\n",
       "      <td>-0.548708</td>\n",
       "    </tr>\n",
       "    <tr>\n",
       "      <th>2</th>\n",
       "      <td>0.208520</td>\n",
       "      <td>0.212690</td>\n",
       "      <td>1.268021</td>\n",
       "      <td>-0.807303</td>\n",
       "    </tr>\n",
       "    <tr>\n",
       "      <th>3</th>\n",
       "      <td>-3.303072</td>\n",
       "      <td>-0.806650</td>\n",
       "      <td>-0.360329</td>\n",
       "      <td>-0.880396</td>\n",
       "    </tr>\n",
       "    <tr>\n",
       "      <th>4</th>\n",
       "      <td>0.152631</td>\n",
       "      <td>0.250250</td>\n",
       "      <td>0.078508</td>\n",
       "      <td>-0.903904</td>\n",
       "    </tr>\n",
       "  </tbody>\n",
       "</table>\n",
       "</div>"
      ],
      "text/plain": [
       "          A         B         C         D\n",
       "0  0.357440  0.377538  1.382338  1.175549\n",
       "1 -0.939276 -1.143150 -0.542440 -0.548708\n",
       "2  0.208520  0.212690  1.268021 -0.807303\n",
       "3 -3.303072 -0.806650 -0.360329 -0.880396\n",
       "4  0.152631  0.250250  0.078508 -0.903904"
      ]
     },
     "execution_count": 2,
     "metadata": {},
     "output_type": "execute_result"
    }
   ],
   "source": [
    "def long_running_data_generation(n=5):\n",
    "    time.sleep(n)\n",
    "    np.random.seed(seed=444)  # vcs would be a pain without this\n",
    "    return pd.DataFrame(np.random.randn(100, 4), columns=list('ABCD'))\n",
    "\n",
    "\n",
    "df = long_running_data_generation()\n",
    "df.head()"
   ]
  },
  {
   "cell_type": "markdown",
   "metadata": {},
   "source": [
    "### Processing\n",
    "\n",
    "We have a few processing steps to do."
   ]
  },
  {
   "cell_type": "code",
   "execution_count": 3,
   "metadata": {},
   "outputs": [
    {
     "data": {
      "text/html": [
       "<div>\n",
       "<style scoped>\n",
       "    .dataframe tbody tr th:only-of-type {\n",
       "        vertical-align: middle;\n",
       "    }\n",
       "\n",
       "    .dataframe tbody tr th {\n",
       "        vertical-align: top;\n",
       "    }\n",
       "\n",
       "    .dataframe thead th {\n",
       "        text-align: right;\n",
       "    }\n",
       "</style>\n",
       "<table border=\"1\" class=\"dataframe\">\n",
       "  <thead>\n",
       "    <tr style=\"text-align: right;\">\n",
       "      <th></th>\n",
       "      <th>A</th>\n",
       "      <th>B</th>\n",
       "      <th>C</th>\n",
       "      <th>D</th>\n",
       "      <th>A2</th>\n",
       "    </tr>\n",
       "  </thead>\n",
       "  <tbody>\n",
       "    <tr>\n",
       "      <th>0</th>\n",
       "      <td>0.357440</td>\n",
       "      <td>0.377538</td>\n",
       "      <td>1.382338</td>\n",
       "      <td>1.175549</td>\n",
       "      <td>1.092418</td>\n",
       "    </tr>\n",
       "    <tr>\n",
       "      <th>1</th>\n",
       "      <td>-0.939276</td>\n",
       "      <td>-1.143150</td>\n",
       "      <td>-0.542440</td>\n",
       "      <td>-0.548708</td>\n",
       "      <td>-3.021702</td>\n",
       "    </tr>\n",
       "    <tr>\n",
       "      <th>2</th>\n",
       "      <td>0.208520</td>\n",
       "      <td>0.212690</td>\n",
       "      <td>1.268021</td>\n",
       "      <td>-0.807303</td>\n",
       "      <td>0.629729</td>\n",
       "    </tr>\n",
       "    <tr>\n",
       "      <th>3</th>\n",
       "      <td>-3.303072</td>\n",
       "      <td>-0.806650</td>\n",
       "      <td>-0.360329</td>\n",
       "      <td>-0.880396</td>\n",
       "      <td>-7.412793</td>\n",
       "    </tr>\n",
       "    <tr>\n",
       "      <th>4</th>\n",
       "      <td>0.152631</td>\n",
       "      <td>0.250250</td>\n",
       "      <td>0.078508</td>\n",
       "      <td>-0.903904</td>\n",
       "      <td>0.555513</td>\n",
       "    </tr>\n",
       "  </tbody>\n",
       "</table>\n",
       "</div>"
      ],
      "text/plain": [
       "          A         B         C         D        A2\n",
       "0  0.357440  0.377538  1.382338  1.175549  1.092418\n",
       "1 -0.939276 -1.143150 -0.542440 -0.548708 -3.021702\n",
       "2  0.208520  0.212690  1.268021 -0.807303  0.629729\n",
       "3 -3.303072 -0.806650 -0.360329 -0.880396 -7.412793\n",
       "4  0.152631  0.250250  0.078508 -0.903904  0.555513"
      ]
     },
     "execution_count": 3,
     "metadata": {},
     "output_type": "execute_result"
    }
   ],
   "source": [
    "df = df.assign(A2=2*df.A+df.B)\n",
    "df.head()"
   ]
  },
  {
   "cell_type": "markdown",
   "metadata": {},
   "source": [
    "### Storage\n",
    "\n",
    "Let's store that for future use."
   ]
  },
  {
   "cell_type": "code",
   "execution_count": 4,
   "metadata": {},
   "outputs": [
    {
     "name": "stdout",
     "output_type": "stream",
     "text": [
      "0ebc21d7983d3ce8bcc159aea7cc8127b76ef3183e260333780a54b619b129a6\n",
      "data_prep_df_0ebc21d.p.gz already exists.\n"
     ]
    }
   ],
   "source": [
    "# cell imports?! maybe I won't use these anywhere else...\n",
    "import hashlib\n",
    "import gzip\n",
    "\n",
    "# safely hash a dataframe\n",
    "# TODO: Include reference to where I saw this\n",
    "row_hashes = pd.util.hash_pandas_object(df, index=True)\n",
    "df_hash = hashlib.sha256(row_hashes.values).hexdigest()\n",
    "print(df_hash)\n",
    "# write the file, don't clobber it if its already there, this could be slow\n",
    "filename = f'data_prep_df_{df_hash[:7]}.p.gz'\n",
    "try:\n",
    "    with gzip.open(filename, 'x') as scores_file:\n",
    "        scores_file.write('# Creation time: {}\\n'.format(str(now)).encode())\n",
    "        scores_file.write('# Table hash: {}\\n'.format(df_hash).encode())\n",
    "        scores_file.write(df.to_string().encode())\n",
    "except FileExistsError:\n",
    "    print('{} already exists.'.format(filename))"
   ]
  },
  {
   "cell_type": "code",
   "execution_count": null,
   "metadata": {},
   "outputs": [],
   "source": []
  }
 ],
 "metadata": {
  "kernelspec": {
   "display_name": "Python [conda env:sweet-jupy] *",
   "language": "python",
   "name": "conda-env-sweet-jupy-py"
  },
  "language_info": {
   "codemirror_mode": {
    "name": "ipython",
    "version": 3
   },
   "file_extension": ".py",
   "mimetype": "text/x-python",
   "name": "python",
   "nbconvert_exporter": "python",
   "pygments_lexer": "ipython3",
   "version": "3.7.3"
  }
 },
 "nbformat": 4,
 "nbformat_minor": 2
}
