{
 "cells": [
  {
   "cell_type": "code",
   "execution_count": 1,
   "metadata": {},
   "outputs": [],
   "source": [
    "import pandas as pd"
   ]
  },
  {
   "cell_type": "code",
   "execution_count": 2,
   "metadata": {},
   "outputs": [
    {
     "data": {
      "text/html": [
       "<div>\n",
       "<style scoped>\n",
       "    .dataframe tbody tr th:only-of-type {\n",
       "        vertical-align: middle;\n",
       "    }\n",
       "\n",
       "    .dataframe tbody tr th {\n",
       "        vertical-align: top;\n",
       "    }\n",
       "\n",
       "    .dataframe thead th {\n",
       "        text-align: right;\n",
       "    }\n",
       "</style>\n",
       "<table border=\"1\" class=\"dataframe\">\n",
       "  <thead>\n",
       "    <tr style=\"text-align: right;\">\n",
       "      <th></th>\n",
       "      <th>A</th>\n",
       "      <th>B</th>\n",
       "      <th>C</th>\n",
       "      <th>D</th>\n",
       "      <th>A2</th>\n",
       "    </tr>\n",
       "  </thead>\n",
       "  <tbody>\n",
       "    <tr>\n",
       "      <th>0</th>\n",
       "      <td>0.357440</td>\n",
       "      <td>0.377538</td>\n",
       "      <td>1.382338</td>\n",
       "      <td>1.175549</td>\n",
       "      <td>1.092418</td>\n",
       "    </tr>\n",
       "    <tr>\n",
       "      <th>1</th>\n",
       "      <td>-0.939276</td>\n",
       "      <td>-1.143150</td>\n",
       "      <td>-0.542440</td>\n",
       "      <td>-0.548708</td>\n",
       "      <td>-3.021702</td>\n",
       "    </tr>\n",
       "    <tr>\n",
       "      <th>2</th>\n",
       "      <td>0.208520</td>\n",
       "      <td>0.212690</td>\n",
       "      <td>1.268021</td>\n",
       "      <td>-0.807303</td>\n",
       "      <td>0.629729</td>\n",
       "    </tr>\n",
       "    <tr>\n",
       "      <th>3</th>\n",
       "      <td>-3.303072</td>\n",
       "      <td>-0.806650</td>\n",
       "      <td>-0.360329</td>\n",
       "      <td>-0.880396</td>\n",
       "      <td>-7.412793</td>\n",
       "    </tr>\n",
       "    <tr>\n",
       "      <th>4</th>\n",
       "      <td>0.152631</td>\n",
       "      <td>0.250250</td>\n",
       "      <td>0.078508</td>\n",
       "      <td>-0.903904</td>\n",
       "      <td>0.555513</td>\n",
       "    </tr>\n",
       "  </tbody>\n",
       "</table>\n",
       "</div>"
      ],
      "text/plain": [
       "          A         B         C         D        A2\n",
       "0  0.357440  0.377538  1.382338  1.175549  1.092418\n",
       "1 -0.939276 -1.143150 -0.542440 -0.548708 -3.021702\n",
       "2  0.208520  0.212690  1.268021 -0.807303  0.629729\n",
       "3 -3.303072 -0.806650 -0.360329 -0.880396 -7.412793\n",
       "4  0.152631  0.250250  0.078508 -0.903904  0.555513"
      ]
     },
     "execution_count": 2,
     "metadata": {},
     "output_type": "execute_result"
    }
   ],
   "source": [
    "# df = pd.read_csv('data_prep_df_0ebc21d.csv.gz', comment='#', index_col=0)\n",
    "df = pd.read_pickle('data_prep_df_0ebc21d.p.gz')\n",
    "df.head()"
   ]
  },
  {
   "cell_type": "markdown",
   "metadata": {},
   "source": [
    "Before we continue, let's ensure our data is consistent with the current version\n",
    "of the data prep notebook."
   ]
  },
  {
   "cell_type": "code",
   "execution_count": 3,
   "metadata": {},
   "outputs": [],
   "source": [
    "import hashlib\n",
    "\n",
    "\n",
    "row_hashes = pd.util.hash_pandas_object(df, index=True)\n",
    "df_hash = hashlib.sha256(row_hashes.values).hexdigest()\n",
    "\n",
    "current_df_hash = '0ebc21d7983d3ce8bcc159aea7cc8127b76ef3183e260333780a54b619b129a6'\n",
    "assert(current_df_hash == df_hash)  # this can stop our notebook"
   ]
  },
  {
   "cell_type": "code",
   "execution_count": null,
   "metadata": {},
   "outputs": [],
   "source": []
  }
 ],
 "metadata": {
  "kernelspec": {
   "display_name": "Python [conda env:sweet-jupy] *",
   "language": "python",
   "name": "conda-env-sweet-jupy-py"
  },
  "language_info": {
   "codemirror_mode": {
    "name": "ipython",
    "version": 3
   },
   "file_extension": ".py",
   "mimetype": "text/x-python",
   "name": "python",
   "nbconvert_exporter": "python",
   "pygments_lexer": "ipython3",
   "version": "3.7.3"
  }
 },
 "nbformat": 4,
 "nbformat_minor": 2
}
